{
 "cells": [
  {
   "cell_type": "markdown",
   "metadata": {
    "deletable": true,
    "editable": true
   },
   "source": [
    "## Playground\n",
    "\n",
    "This is a notebook containing some interesting datasets that you can use to sharpen your table skills, apply statistical analysis or just have fun. We have included some analysis on one of the datasets just to give you some ideas to get started."
   ]
  },
  {
   "cell_type": "code",
   "execution_count": null,
   "metadata": {
    "collapsed": true,
    "deletable": true,
    "editable": true
   },
   "outputs": [],
   "source": [
    "import numpy as np\n",
    "from datascience import *\n"
    "import ipywidgets as widgets"
   ]
  },
  {
   "cell_type": "code",
   "execution_count": null,
   "metadata": {
    "collapsed": true,
    "deletable": true,
    "editable": true
   },
   "outputs": [],
   "source": [
    "widgets.IntSlider()"
   ]
  },
  {
   "cell_type": "markdown",
   "metadata": {
    "deletable": true,
    "editable": true
   },
   "source": [
    "## The Data\n",
    "\n",
    "We have imported the data for you in datascience tables however, you can also download the data and gain a better understanding of the datasets by following the links below.\n",
    "\n",
    "1. <a href=\"https://www.kaggle.com/c/titanic\">Survival on the Titanic</a>\n",
    "2. <a href =\"https://www.kaggle.com/ikalats/TechnologyPriceIndex\">Technology Price Index</a>\n",
    "3. <a href=\"https://www.kaggle.com/usgs/earthquake-database\">Significant Earthquakes, 1965-2016</a>"
   ]
  },
  {
   "cell_type": "markdown",
   "metadata": {
    "deletable": true,
    "editable": true
   },
   "source": [
    "### Survival on the Titanic"
   ]
  },
  {
   "cell_type": "code",
   "execution_count": null,
   "metadata": {
    "collapsed": false,
    "deletable": true,
    "editable": true
   },
   "outputs": [],
   "source": [
    "#reading a dataset from a csv\n",
    "titanic_data = Table.read_table(\"https://raw.githubusercontent.com/oikobill/Kaggle/master/Titanic/data/train.csv\")\n",
    "titanic_data.show(5) #to show only the 5 first rows of the dataset"
   ]
  },
  {
   "cell_type": "code",
   "execution_count": null,
   "metadata": {
    "collapsed": false,
    "deletable": true,
    "editable": true
   },
   "outputs": [],
   "source": [
    "#what are the dimensions of my data?\n",
    "print(\"Number of people: \", titanic_data.num_rows)\n",
    "print(\"Number of columns/features: \", titanic_data.num_columns)"
   ]
  },
  {
   "cell_type": "code",
   "execution_count": null,
   "metadata": {
    "collapsed": false,
    "deletable": true,
    "editable": true
   },
   "outputs": [],
   "source": [
    "#always rename your column names to something that is more human readable\n",
    "titanic_data.relabel(\"Embarked\", \"port\")\n",
    "titanic_data.relabel(\"PassengerId\", \"id\")\n",
    "titanic_data.relabel(\"Survived\", \"survived\") #I like every column name to be in lowercase\n",
    "titanic_data.relabel(\"Pclass\", \"passenger_class\")\n",
    "titanic_data.relabel(\"Name\", \"name\")\n",
    "titanic_data.relabel(\"Sex\", \"sex\")\n",
    "titanic_data.relabel(\"Fare\", \"fare\")\n",
    "titanic_data.relabel(\"Cabin\", \"cabin\")\n",
    "titanic_data.relabel(\"Ticket\", \"ticket\")\n",
    "titanic_data.relabel(\"Age\", \"age\")"
   ]
  },
  {
   "cell_type": "code",
   "execution_count": null,
   "metadata": {
    "collapsed": false,
    "deletable": true,
    "editable": true
   },
   "outputs": [],
   "source": [
    "#how about creating a new variable?\n",
    "siblings_spouses = titanic_data.column(\"SibSp\")\n",
    "children_parents = titanic_data.column(\"Parch\")\n",
    "titanic_data = titanic_data.with_column(\"family_size\", siblings_spouses+children_parents)\n",
    "titanic_data"
   ]
  },
  {
   "cell_type": "code",
   "execution_count": null,
   "metadata": {
    "collapsed": false,
    "deletable": true,
    "editable": true
   },
   "outputs": [],
   "source": [
    "#survival by passenger class \n",
    "pclass = titanic_data.select([\"survived\", \"passenger_class\"]) #select only some columns from the table\n",
    "pclass.group(\"passenger_class\", np.mean) "
   ]
  },
  {
   "cell_type": "code",
   "execution_count": null,
   "metadata": {
    "collapsed": true,
    "deletable": true,
    "editable": true
   },
   "outputs": [],
   "source": [
    "# Now you have enough ideas to get started on your own analysis!"
   ]
  },
  {
   "cell_type": "markdown",
   "metadata": {
    "deletable": true,
    "editable": true
   },
   "source": [
    "### Technology Price Index"
   ]
  },
  {
   "cell_type": "code",
   "execution_count": null,
   "metadata": {
    "collapsed": false,
    "deletable": true,
    "editable": true
   },
   "outputs": [],
   "source": [
    "tpi = Table().read_table(\"https://raw.githubusercontent.com/oikobill/data8_resources/master/notes/datasets/tech_price_index.csv\")\n",
    "tpi.show(5)"
   ]
  },
  {
   "cell_type": "markdown",
   "metadata": {
    "deletable": true,
    "editable": true
   },
   "source": [
    "### Significant Earthquakes, 1965-2016"
   ]
  },
  {
   "cell_type": "code",
   "execution_count": null,
   "metadata": {
    "collapsed": false,
    "deletable": true,
    "editable": true
   },
   "outputs": [],
   "source": [
    "#Be careful! This one has a lot of missing data but it is good to get you to think about how to handle them in the real world\n",
    "earthquakes = Table().read_table(\"https://raw.githubusercontent.com/oikobill/data8_resources/master/notes/datasets/earthquake.csv\")\n",
    "earthquakes.show(5)"
   ]
  }
 ],
 "metadata": {
  "anaconda-cloud": {},
  "kernelspec": {
   "display_name": "Python 3",
   "language": "python",
   "name": "python3"
  },
  "language_info": {
   "codemirror_mode": {
    "name": "ipython",
    "version": 3
   },
   "file_extension": ".py",
   "mimetype": "text/x-python",
   "name": "python",
   "nbconvert_exporter": "python",
   "pygments_lexer": "ipython3",
   "version": "3.5.2"
  }
 },
 "nbformat": 4,
 "nbformat_minor": 1
}
